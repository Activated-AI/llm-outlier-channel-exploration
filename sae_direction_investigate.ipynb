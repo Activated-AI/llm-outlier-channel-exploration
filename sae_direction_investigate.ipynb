{
 "cells": [
  {
   "cell_type": "code",
   "execution_count": 2,
   "metadata": {},
   "outputs": [
    {
     "name": "stdout",
     "output_type": "stream",
     "text": [
      "torch.Size([128, 1024])\n",
      "Directory already exists: sae_models\n",
      "W&B disabled.\n"
     ]
    }
   ],
   "source": [
    "#----- imports --------\n",
    "\n",
    "import tqdm\n",
    "import torch\n",
    "from torch import nn\n",
    "from torch.nn import functional as F\n",
    "import wandb\n",
    "import os\n",
    "import tokenizers\n",
    "from matplotlib import pyplot as plt\n",
    "import numpy as np\n",
    "import json\n",
    "import random\n",
    "import tqdm\n",
    "from sae import TopKSparseAutoencoder\n",
    "\n",
    "\n",
    "device= 'cuda' if torch.cuda.is_available() else 'cpu'\n",
    "torch.set_default_device(device)\n",
    "assert device == 'cuda', \"This notebook is not optimized for CPU\"\n",
    "\n",
    "torch.backends.cuda.matmul.allow_tf32 = True # for h100 gpu\n",
    "\n",
    "config = {\n",
    "    \"learning_rate\": 1e-2,\n",
    "    # 'sae_size': 2**18,\n",
    "    'sae_size': 2**14,\n",
    "    \"sae_topk\": 20,\n",
    "    \"sae_learning_rate\": 5e-5,\n",
    "    \"sae_sparsity_penalty\": 250,\n",
    "    \"model_embedding_layer\": 6,\n",
    "    \"eval_interval\": 500,\n",
    "    \"max_iters\": 60000, \n",
    "    \"H\": 32, # hidden dimension size\n",
    "    \"B\": 128,\n",
    "    \"T\": 256,\n",
    "    \"C\": 256,\n",
    "    \"feedforward_factor\": 3,\n",
    "    \"n_heads\": 8,\n",
    "    \"n_layers\": 12,\n",
    "    \"tokenizer_vocab_size\": 2**13,\n",
    "    \"git_hash\": os.popen(\"git rev-parse HEAD\").read().strip()\n",
    "}\n",
    "\n",
    "# initial\n",
    "for k,v in config.items():\n",
    "    locals ()[k] = v\n",
    "\n",
    "\n",
    "\n",
    "# model_name = \"tiny-stories-model-normal-0.44-loss.pt\"\n",
    "model_name = \"tiny-stories-model-kurtosis-regularize-0.44-loss.pt\"\n",
    "residuals_path = f'./residuals/{model_name}'\n",
    "\n",
    "sae_models_dir = 'sae_models'\n",
    "if not os.path.exists(sae_models_dir):\n",
    "    os.makedirs(sae_models_dir)\n",
    "    print(f\"Created directory: {sae_models_dir}\")\n",
    "else:\n",
    "    print(f\"Directory already exists: {sae_models_dir}\")\n",
    "\n",
    "model_path = f'{sae_models_dir}/sae-{model_name}'\n",
    "\n",
    "!wandb disabled\n",
    "\n",
    "# !wandb enabled\n",
    "# wandb.init(\n",
    "#    project = \"scaling-monosemanticity-vanilla\",\n",
    "#    config = config,\n",
    "# )"
   ]
  },
  {
   "cell_type": "code",
   "execution_count": 3,
   "metadata": {},
   "outputs": [
    {
     "name": "stdout",
     "output_type": "stream",
     "text": [
      "tensor([0.0000, 0.9200, 0.9200, 1.0000], device='cuda:0')\n"
     ]
    }
   ],
   "source": [
    "\n",
    "a = torch.tensor([[1.25,2,3,4], # predicted example 1\n",
    "                  [1.25,2.4,3.4,4.5]], dtype=torch.float32) # predicted example 2\n",
    "\n",
    "b = torch.tensor([[1,   2,   3,   4  ], # actual example 1\n",
    "                  [1.5, 2.5, 3.5, 4.5]], dtype=torch.float32) # actual example 2\n",
    "\n",
    "def r2_per_channel(predicted, actual):\n",
    "    channel_means = torch.mean(actual, dim=-2)\n",
    "    avg_squared_error_per_channel = torch.mean((actual - channel_means)**2, dim=-2)\n",
    "    avg_squared_error_predicted = torch.mean((predicted - actual)**2, dim=-2)\n",
    "    return 1 - avg_squared_error_predicted / avg_squared_error_per_channel\n",
    "\n",
    "print(r2_per_channel(a, b))"
   ]
  },
  {
   "cell_type": "code",
   "execution_count": 4,
   "metadata": {},
   "outputs": [
    {
     "name": "stdout",
     "output_type": "stream",
     "text": [
      "tensor([0., 1., 2., 3.], device='cuda:0')\n"
     ]
    }
   ],
   "source": [
    "sample_feature_activations = torch.tensor(\n",
    "    [\n",
    "        [0, 0, 0, 0],\n",
    "        [0, 0, 1, 0],\n",
    "        [0, 3, 0, 1],\n",
    "        [1, 1, 0, 1]\n",
    "    ]\n",
    ")\n",
    "\n",
    "def active_features_per_token(feature_activations):\n",
    "    nonzero_counts = (feature_activations != 0).sum(dim=-1).to(torch.float32)\n",
    "    return nonzero_counts\n",
    "\n",
    "print(active_features_per_token(sample_feature_activations))"
   ]
  },
  {
   "cell_type": "code",
   "execution_count": 5,
   "metadata": {},
   "outputs": [],
   "source": [
    "sae = TopKSparseAutoencoder(C, sae_size, sae_topk)\n",
    "optimizer = torch.optim.Adam(sae.parameters(), lr=sae_learning_rate)"
   ]
  },
  {
   "cell_type": "code",
   "execution_count": 6,
   "metadata": {},
   "outputs": [
    {
     "name": "stdout",
     "output_type": "stream",
     "text": [
      "Total trainable parameters: 8405504\n"
     ]
    }
   ],
   "source": [
    "# Calculate the total number of parameters\n",
    "total_params = sum(p.numel() for p in sae.parameters() if p.requires_grad)\n",
    "print(f\"Total trainable parameters: {total_params}\")"
   ]
  },
  {
   "cell_type": "code",
   "execution_count": 7,
   "metadata": {},
   "outputs": [],
   "source": [
    "def load_tensor(filepath):\n",
    "    # load the .pt tensor\n",
    "    tensor = torch.load(filepath)\n",
    "    tensor = torch.cat(tensor, dim=0)\n",
    "    tensor = tensor.to(device)\n",
    "    return tensor\n",
    "    "
   ]
  },
  {
   "cell_type": "code",
   "execution_count": 8,
   "metadata": {},
   "outputs": [
    {
     "data": {
      "text/plain": [
       "tensor(0.5914, device='cuda:0', grad_fn=<MeanBackward0>)"
      ]
     },
     "execution_count": 8,
     "metadata": {},
     "output_type": "execute_result"
    }
   ],
   "source": [
    "sae.forward(torch.randn(C))['mse']"
   ]
  },
  {
   "cell_type": "code",
   "execution_count": 9,
   "metadata": {},
   "outputs": [],
   "source": [
    "# sae_path = 'sae_models/sae-tiny-stories-model-normal-0.44-loss.pt'\n"
   ]
  },
  {
   "cell_type": "code",
   "execution_count": 10,
   "metadata": {},
   "outputs": [],
   "source": [
    "def random_rotation_matrix(n, dtype=torch.float32):\n",
    "    \"\"\"\n",
    "    Generate a random rotation matrix in n dimensions.\n",
    "    \n",
    "    Args:\n",
    "    n (int): Number of dimensions\n",
    "    dtype (torch.dtype): Data type of the matrix\n",
    "    device (str or torch.device): Device to create the matrix on\n",
    "    \n",
    "    Returns:\n",
    "    torch.Tensor: An n x n random rotation matrix\n",
    "    \"\"\"\n",
    "    # Generate a random matrix\n",
    "    A = torch.randn(n, n, dtype=dtype)\n",
    "    \n",
    "    # Compute the QR factorization\n",
    "    Q, R = torch.linalg.qr(A)\n",
    "    \n",
    "    # Ensure proper rotation matrix (determinant = 1)\n",
    "    D = torch.diag(torch.sign(torch.diag(R)))\n",
    "    Q = torch.mm(Q, D)\n",
    "    \n",
    "    return Q\n"
   ]
  },
  {
   "cell_type": "code",
   "execution_count": 40,
   "metadata": {},
   "outputs": [
    {
     "data": {
      "image/png": "[encoded data removed]",
      "text/plain": [
       "<Figure size 432x288 with 1 Axes>"
      ]
     },
     "metadata": {
      "needs_background": "light"
     },
     "output_type": "display_data"
    },
    {
     "data": {
      "image/png": "[encoded data removed]",
      "text/plain": [
       "<Figure size 432x288 with 1 Axes>"
      ]
     },
     "metadata": {
      "needs_background": "light"
     },
     "output_type": "display_data"
    }
   ],
   "source": [
    "def analyze_sae_directions(sae_path, apply_rotation=True, normalize_weights=True):\n",
    "    sae.load_state_dict(torch.load(sae_path, map_location='cuda'))\n",
    "    \n",
    "    if apply_rotation:\n",
    "        rotation_matrix = random_rotation_matrix(C)\n",
    "        encoder_weights = sae.encode.weight @ rotation_matrix\n",
    "    else:\n",
    "        encoder_weights = sae.encode.weight\n",
    "\n",
    "    with torch.no_grad():\n",
    "        if normalize_weights:\n",
    "            norms = encoder_weights.norm(p=2, dim=-1, keepdim=True)\n",
    "            encoder_weights = encoder_weights / norms\n",
    "        \n",
    "        encoder_weights = encoder_weights.abs()\n",
    "        maxes, max_basis_dim = encoder_weights.max(dim=1)\n",
    "\n",
    "        import matplotlib.pyplot as plt\n",
    "\n",
    "        return {\n",
    "            'max_basis_dimensions': max_basis_dim.cpu().numpy(),\n",
    "            'max_correlations': maxes.cpu().numpy()\n",
    "        }\n",
    "        \n",
    "\n",
    "# Example usage:\n",
    "def plot_paired_sae_analysis(sae_path1, sae_path2, sae_name1, sae_name2, hist_range=(0.0, 1.0)):\n",
    "    sae1_analysis = analyze_sae_directions(sae_path1, apply_rotation=False)\n",
    "    sae2_analysis = analyze_sae_directions(sae_path2, apply_rotation=False)\n",
    "\n",
    "    # plot both on a single histogram\n",
    "    plt.hist(sae1_analysis['max_correlations'], bins=50, alpha=0.5, label=sae_name1, range=hist_range)\n",
    "    plt.hist(sae2_analysis['max_correlations'], bins=50, alpha=0.5, label=sae_name2, range=hist_range, color='black')\n",
    "    plt.legend()\n",
    "    plt.xlabel('Correlation with basis vector')\n",
    "    plt.ylabel('Number of basis vectors with this correlation')\n",
    "    plt.title(f'Correlation of SAE vectors with basis vectors ({hist_range[0]} to {hist_range[1]})')\n",
    "    plt.show()\n",
    "\n",
    "def plot_sae_rotation_analysis(sae_path, hist_range=(0.0, 1.0)):\n",
    "    sae_normal_direction_analysis = analyze_sae_directions(sae_path, apply_rotation=False)\n",
    "    sae_direction_analysis_rotated = analyze_sae_directions(sae_path, apply_rotation=True)\n",
    "\n",
    "    # plot both on a single histogram\n",
    "    plt.hist(sae_normal_direction_analysis['max_correlations'], bins=50, alpha=0.5, label='Baseline Adam', range=hist_range)\n",
    "    plt.hist(sae_direction_analysis_rotated['max_correlations'], bins=50, alpha=0.5, label='Random Rotation', range=hist_range)\n",
    "    plt.legend()\n",
    "    plt.xlabel('Correlation with basis vector')\n",
    "    plt.ylabel('Number of basis vectors with this correlation')\n",
    "    plt.title(f'Correlation of SAE vectors with basis vectors ({hist_range[0]} to {hist_range[1]})')\n",
    "    plt.show()\n",
    "\n",
    "\n",
    "# Example usage:\n",
    "sae_kurtosis_path = 'sae_models/sae-tiny-stories-model-kurtosis-regularize-0.44-loss.pt'\n",
    "sae_normal_path = 'sae_models/sae-6000.pt'\n",
    "sae_sgd_path = 'sae_models/sae-tiny-stories-model-SGD-new.pt'\n",
    "\n",
    "plot_paired_sae_analysis(sae_normal_path, sae_sgd_path, 'Baseline Adam', 'SGD', hist_range=(0.1, 0.28)) # default range is 0.0 to 1.0   \n",
    "plot_paired_sae_analysis(sae_normal_path, sae_sgd_path, 'Baseline Adam', 'SGD', hist_range=(0.4, 1.0)) # default range is 0.0 to 1.0   \n",
    "\n",
    "# To use a different range:\n",
    "# plot_paired_sae_analysis(sae_normal_path, hist_range=(0.4, 1.0))\n",
    "\n",
    "# analyze_sae_directions()\n",
    "\n"
   ]
  },
  {
   "cell_type": "code",
   "execution_count": null,
   "metadata": {},
   "outputs": [],
   "source": []
  },
  {
   "cell_type": "code",
   "execution_count": 31,
   "metadata": {},
   "outputs": [
    {
     "name": "stdout",
     "output_type": "stream",
     "text": [
      "Correlation: 0.86, Basis dimension: 197\n",
      "Correlation: 0.48, Basis dimension: 49\n",
      "Correlation: 0.83, Basis dimension: 214\n",
      "Correlation: 0.48, Basis dimension: 217\n",
      "Correlation: 0.45, Basis dimension: 89\n",
      "Correlation: 0.88, Basis dimension: 197\n",
      "Correlation: 0.70, Basis dimension: 49\n"
     ]
    }
   ],
   "source": [
    "sae1_analysis = analyze_sae_directions(sae_normal_path, apply_rotation=False, normalize_weights=False)\n",
    "maxes, max_basis_dim = sae1_analysis['max_correlations'], sae1_analysis['max_basis_dimensions']\n",
    "\n",
    "winning_dimension_histogram = np.zeros(C)\n",
    "\n",
    "for m, d in zip(maxes, max_basis_dim):\n",
    "    if m > .41:\n",
    "        print(f\"Correlation: {m:.2f}, Basis dimension: {d}\")\n",
    "        \n"
   ]
  },
  {
   "cell_type": "code",
   "execution_count": 34,
   "metadata": {},
   "outputs": [
    {
     "data": {
      "image/png": "[encoded data removed]",
      "text/plain": [
       "<Figure size 432x288 with 1 Axes>"
      ]
     },
     "metadata": {
      "needs_background": "light"
     },
     "output_type": "display_data"
    }
   ],
   "source": [
    "def analyze_sae_norms(sae_path, apply_rotation=True):\n",
    "    sae.load_state_dict(torch.load(sae_path, map_location='cuda'))\n",
    "    \n",
    "    if apply_rotation:\n",
    "        rotation_matrix = random_rotation_matrix(C)\n",
    "        encoder_weights = sae.encode.weight @ rotation_matrix\n",
    "    else:\n",
    "        encoder_weights = sae.encode.weight\n",
    "    \n",
    "\n",
    "    with torch.no_grad():\n",
    "        norms = encoder_weights.norm(p=2, dim=-1)\n",
    "    return norms.cpu().numpy()\n",
    "\n",
    "norms = analyze_sae_norms(sae_normal_path, apply_rotation=False)\n",
    "\n",
    "plt.hist(norms, bins=50, alpha=0.5, label='Baseline Adam')\n",
    "\n",
    "plt.legend()\n",
    "plt.xlabel('Norm of basis vector')\n",
    "plt.ylabel('Number of basis vectors with this norm')\n",
    "plt.title('Norms of SAE basis vectors')\n",
    "plt.show()"
   ]
  },
  {
   "cell_type": "code",
   "execution_count": null,
   "metadata": {},
   "outputs": [],
   "source": [
    "        plt.figure(figsize=(12, 6))\n",
    "        plt.hist(max_basis_dim.cpu().numpy(), bins=C, range=(0, C-1), edgecolor='black')\n",
    "        plt.title('Histogram of Max Basis Dimensions')\n",
    "        plt.xlabel('Basis Dimension')\n",
    "        plt.ylabel('Frequency')\n",
    "        plt.show()\n",
    "\n",
    "        plt.figure(figsize=(12, 6))\n",
    "        plt.hist(maxes.cpu().numpy(), bins=50, edgecolor='black')\n",
    "        plt.title('Histogram of Correlation to Closest Basis Vector')\n",
    "        plt.xlabel('Maximum Absolute Value')\n",
    "        plt.ylabel('Frequency')\n",
    "        plt.show()\n"
   ]
  }
 ],
 "metadata": {
  "kernelspec": {
   "display_name": "ai",
   "language": "python",
   "name": "python3"
  },
  "language_info": {
   "codemirror_mode": {
    "name": "ipython",
    "version": 3
   },
   "file_extension": ".py",
   "mimetype": "text/x-python",
   "name": "python",
   "nbconvert_exporter": "python",
   "pygments_lexer": "ipython3",
   "version": "3.10.12"
  }
 },
 "nbformat": 4,
 "nbformat_minor": 2
}
