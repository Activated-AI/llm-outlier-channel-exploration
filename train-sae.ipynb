{
 "cells": [
  {
   "cell_type": "code",
   "execution_count": 10,
   "metadata": {},
   "outputs": [
    {
     "name": "stdout",
     "output_type": "stream",
     "text": [
      "Directory already exists: sae_models\n"
     ]
    },
    {
     "name": "stdout",
     "output_type": "stream",
     "text": [
      "W&B disabled.\n"
     ]
    }
   ],
   "source": [
    "#----- imports --------\n",
    "\n",
    "import tqdm\n",
    "import torch\n",
    "from torch import nn\n",
    "from torch.nn import functional as F\n",
    "import wandb\n",
    "import os\n",
    "import tokenizers\n",
    "from matplotlib import pyplot as plt\n",
    "import numpy as np\n",
    "import json\n",
    "import random\n",
    "import tqdm\n",
    "from sae import TopKSparseAutoencoder\n",
    "\n",
    "\n",
    "device= 'cuda' if torch.cuda.is_available() else 'cpu'\n",
    "torch.set_default_device(device)\n",
    "assert device == 'cuda', \"This notebook is not optimized for CPU\"\n",
    "\n",
    "torch.backends.cuda.matmul.allow_tf32 = True # for h100 gpu\n",
    "\n",
    "config = {\n",
    "    \"learning_rate\": 1e-2,\n",
    "    # 'sae_size': 2**18,\n",
    "    'sae_size': 2**14,\n",
    "    \"sae_topk\": 20,\n",
    "    \"sae_learning_rate\": 5e-5,\n",
    "    \"sae_sparsity_penalty\": 250,\n",
    "    \"model_embedding_layer\": 6,\n",
    "    \"eval_interval\": 500,\n",
    "    \"max_iters\": 60000, \n",
    "    \"H\": 32, # hidden dimension size\n",
    "    \"B\": 128,\n",
    "    \"T\": 256,\n",
    "    \"C\": 256,\n",
    "    \"feedforward_factor\": 3,\n",
    "    \"n_heads\": 8,\n",
    "    \"n_layers\": 12,\n",
    "    \"tokenizer_vocab_size\": 2**13,\n",
    "    \"git_hash\": os.popen(\"git rev-parse HEAD\").read().strip()\n",
    "}\n",
    "\n",
    "# initial\n",
    "for k,v in config.items():\n",
    "    locals ()[k] = v\n",
    "\n",
    "\n",
    "\n",
    "# model_name = \"tiny-stories-model-normal-0.44-loss.pt\"\n",
    "model_name = 'tiny-stories-model-SGD-new.pt'\n",
    "residuals_path = f'./residuals/{model_name}'\n",
    "\n",
    "sae_models_dir = 'sae_models'\n",
    "if not os.path.exists(sae_models_dir):\n",
    "    os.makedirs(sae_models_dir)\n",
    "    print(f\"Created directory: {sae_models_dir}\")\n",
    "else:\n",
    "    print(f\"Directory already exists: {sae_models_dir}\")\n",
    "\n",
    "model_path = f'{sae_models_dir}/sae-{model_name}'\n",
    "\n",
    "!wandb disabled\n",
    "\n",
    "# !wandb enabled\n",
    "# wandb.init(\n",
    "#    project = \"scaling-monosemanticity-vanilla\",\n",
    "#    config = config,\n",
    "# )"
   ]
  },
  {
   "cell_type": "code",
   "execution_count": 11,
   "metadata": {},
   "outputs": [
    {
     "name": "stdout",
     "output_type": "stream",
     "text": [
      "tensor([0.0000, 0.9200, 0.9200, 1.0000], device='cuda:0')\n"
     ]
    }
   ],
   "source": [
    "\n",
    "a = torch.tensor([[1.25,2,3,4], # predicted example 1\n",
    "                  [1.25,2.4,3.4,4.5]], dtype=torch.float32) # predicted example 2\n",
    "\n",
    "b = torch.tensor([[1,   2,   3,   4  ], # actual example 1\n",
    "                  [1.5, 2.5, 3.5, 4.5]], dtype=torch.float32) # actual example 2\n",
    "\n",
    "def r2_per_channel(predicted, actual):\n",
    "    channel_means = torch.mean(actual, dim=-2)\n",
    "    avg_squared_error_per_channel = torch.mean((actual - channel_means)**2, dim=-2)\n",
    "    avg_squared_error_predicted = torch.mean((predicted - actual)**2, dim=-2)\n",
    "    return 1 - avg_squared_error_predicted / avg_squared_error_per_channel\n",
    "\n",
    "print(r2_per_channel(a, b))"
   ]
  },
  {
   "cell_type": "code",
   "execution_count": 12,
   "metadata": {},
   "outputs": [
    {
     "name": "stdout",
     "output_type": "stream",
     "text": [
      "tensor([0., 1., 2., 3.], device='cuda:0')\n"
     ]
    }
   ],
   "source": [
    "sample_feature_activations = torch.tensor(\n",
    "    [\n",
    "        [0, 0, 0, 0],\n",
    "        [0, 0, 1, 0],\n",
    "        [0, 3, 0, 1],\n",
    "        [1, 1, 0, 1]\n",
    "    ]\n",
    ")\n",
    "\n",
    "def active_features_per_token(feature_activations):\n",
    "    nonzero_counts = (feature_activations != 0).sum(dim=-1).to(torch.float32)\n",
    "    return nonzero_counts\n",
    "\n",
    "print(active_features_per_token(sample_feature_activations))"
   ]
  },
  {
   "cell_type": "code",
   "execution_count": 13,
   "metadata": {},
   "outputs": [],
   "source": [
    "# class SparseAutoEncoder(nn.Module):\n",
    "#     def __init__(self, activations_dim, sparse_dim):\n",
    "#         super().__init__()\n",
    "#         self.activations_dim = activations_dim\n",
    "#         encoder_weight = torch.randn(activations_dim, sparse_dim)\n",
    "#         decoder_weight = torch.randn(sparse_dim, activations_dim)\n",
    "#         self.encoder_bias = nn.Parameter(torch.zeros(sparse_dim))\n",
    "#         self.decoder_bias = nn.Parameter(torch.zeros(activations_dim))\n",
    "#         self.sparse_dim = sparse_dim\n",
    "#         self.sparsity_penalty = sae_sparsity_penalty\n",
    "\n",
    "#         # set the encoder_weight to have the activations dim to be normalized to have l2 norm randomly between 0.05 and 1\n",
    "#         direction_lengths = torch.rand(sparse_dim) * 0.95 + 0.05\n",
    "#         # normalize the encoder_weight along columns (dim -2) to have l2 norm of 1\n",
    "#         encoder_weight = F.normalize(encoder_weight, p=2, dim=0)\n",
    "#         # multiply the column norms by the direction_lengths\n",
    "#         encoder_weight = encoder_weight * direction_lengths\n",
    "#         # make the decoder weight be the transpose of the encoder_weight\n",
    "#         decoder_weight = torch.transpose(encoder_weight, 0, 1)\n",
    "\n",
    "#         self.encoder_weight = nn.Parameter(encoder_weight)\n",
    "#         self.decoder_weight = nn.Parameter(decoder_weight)\n",
    "\n",
    "\n",
    "\n",
    "#     def forward(self, x):\n",
    "#         # preprocessing normalization\n",
    "#         # now on average any embedding has euclidian length 1\n",
    "\n",
    "#         encoded = F.relu(x @ self.encoder_weight + self.encoder_bias) # all act. are positive\n",
    "#         decoded = encoded @ self.decoder_weight + self.decoder_bias\n",
    "\n",
    "#         reconstruction_l2_loss = F.mse_loss(x, decoded)\n",
    "\n",
    "#         # every row in the tall decoder matrix\n",
    "#         # is the \"sum\" of the total influence of a feature on the output\n",
    "#         # the l2 norm of that row is the \"influence\" of that feature on that output\n",
    "#         # calculate that, store as row\n",
    "#         decoder_l2 = torch.linalg.norm(self.decoder_weight, dim=-1)\n",
    "#         # the feature activation is the sparse activation * it's influence on output\n",
    "#         feature_activations = (encoded) * decoder_l2\n",
    "#         # sum of feature activations\n",
    "#         # divide by the batch size * sequence length\n",
    "#         # should work if there is no batch dimension\n",
    "#         if x.ndim == 3:\n",
    "#             batch_dim, sequence_dim, _ = x.shape\n",
    "#         elif x.ndim == 2:\n",
    "#             batch_dim = 1\n",
    "#             sequence_dim, _ = x.shape\n",
    "#         elif x.ndim == 1:\n",
    "#             batch_dim = 1\n",
    "#             sequence_dim = 1\n",
    "#         else:\n",
    "#             raise ValueError(f\"x has {x.ndim} dimensions, but it should have 1, 2, or 3\")\n",
    "        \n",
    "#         sparsity_loss = torch.sum(feature_activations) * self.sparsity_penalty / (batch_dim * sequence_dim * self.sparse_dim)\n",
    "\n",
    "#         total_loss = reconstruction_l2_loss + sparsity_loss\n",
    "\n",
    "#         return {\"encoded\": encoded, \"decoded\": decoded, 'feature_activations': feature_activations, \"reconstruction_loss\": reconstruction_l2_loss, \"sparsity_loss\": sparsity_loss, \"total_loss\": total_loss}\n",
    "\n",
    "\n",
    "\n",
    "\n",
    "\n",
    "# sae = SparseAutoEncoder(C, sae_size)\n",
    "\n",
    "\n"
   ]
  },
  {
   "cell_type": "code",
   "execution_count": 14,
   "metadata": {},
   "outputs": [],
   "source": [
    "sae = TopKSparseAutoencoder(C, sae_size, sae_topk)\n",
    "optimizer = torch.optim.Adam(sae.parameters(), lr=sae_learning_rate)"
   ]
  },
  {
   "cell_type": "code",
   "execution_count": 15,
   "metadata": {},
   "outputs": [
    {
     "name": "stdout",
     "output_type": "stream",
     "text": [
      "Total trainable parameters: 8405504\n"
     ]
    }
   ],
   "source": [
    "# Calculate the total number of parameters\n",
    "total_params = sum(p.numel() for p in sae.parameters() if p.requires_grad)\n",
    "print(f\"Total trainable parameters: {total_params}\")"
   ]
  },
  {
   "cell_type": "code",
   "execution_count": 16,
   "metadata": {},
   "outputs": [],
   "source": [
    "def load_tensor(filepath):\n",
    "    # load the .pt tensor\n",
    "    tensor = torch.load(filepath)\n",
    "    tensor = torch.cat(tensor, dim=0)\n",
    "    tensor = tensor.to(device)\n",
    "    return tensor\n",
    "    "
   ]
  },
  {
   "cell_type": "code",
   "execution_count": 17,
   "metadata": {},
   "outputs": [],
   "source": [
    "@torch.no_grad()\n",
    "def estimate_sae_loss(eval_iters, tensor):\n",
    "    sae_loss = 0\n",
    "    count = 0\n",
    "    sae_r2_sum = 0\n",
    "    \n",
    "    for i in range(0, eval_iters, B):\n",
    "        count += 1\n",
    "        start = i\n",
    "        end = i+B\n",
    "        assert tensor.shape[0] >= end, f\"too many eval_iters\"\n",
    "        sample = tensor[start:end]\n",
    "        sae_output = sae(sample, return_r2=True)\n",
    "        sae_loss += sae_output['mse'].item()\n",
    "        sae_r2_sum += sae_output['mean_r2'].item()\n",
    "    avg_loss = sae_loss/count\n",
    "    avg_r2 = sae_r2_sum/count\n",
    "    return {\"avg_loss\": avg_loss, \"avg_r2\": avg_r2}\n",
    "\n",
    "    \n",
    "\n",
    "\n",
    "# estimate_sae_loss(100, load_tensor(f\"{residuals_path}/residuals_train_1.pt\"))"
   ]
  },
  {
   "cell_type": "code",
   "execution_count": 18,
   "metadata": {},
   "outputs": [],
   "source": [
    "train_filepaths = []\n",
    "val_filepaths = []\n",
    "\n",
    "for file in os.listdir(f'{residuals_path}'):\n",
    "    if file.startswith(f\"residuals_train\"):\n",
    "        train_filepaths.append(f\"{residuals_path}/{file}\")\n",
    "    elif file.startswith(f\"residuals_val\"):\n",
    "        val_filepaths.append(f\"{residuals_path}/{file}\")\n",
    "\n"
   ]
  },
  {
   "cell_type": "code",
   "execution_count": 19,
   "metadata": {},
   "outputs": [
    {
     "name": "stdout",
     "output_type": "stream",
     "text": [
      "val loss on next datafile\n",
      "{'val_mse': 0.4742486737668514, 'val_r2': 0.05032109748572111}\n",
      "train loss on next datafile\n",
      "training on ./residuals/tiny-stories-model-SGD-new.pt/residuals_train_0.pt\n"
     ]
    },
    {
     "name": "stderr",
     "output_type": "stream",
     "text": [
      "100%|██████████| 25593/25593 [00:55<00:00, 460.83it/s]\n"
     ]
    },
    {
     "name": "stdout",
     "output_type": "stream",
     "text": [
      "val loss on next datafile\n",
      "{'val_mse': 0.02500575757585466, 'val_r2': 0.9486129805445671}\n",
      "train loss on next datafile\n",
      "training on ./residuals/tiny-stories-model-SGD-new.pt/residuals_train_1.pt\n"
     ]
    },
    {
     "name": "stderr",
     "output_type": "stream",
     "text": [
      "100%|██████████| 25593/25593 [00:56<00:00, 452.41it/s]\n"
     ]
    },
    {
     "name": "stdout",
     "output_type": "stream",
     "text": [
      "val loss on next datafile\n",
      "{'val_mse': 0.02031538891606033, 'val_r2': 0.958683080971241}\n",
      "train loss on next datafile\n",
      "training on ./residuals/tiny-stories-model-SGD-new.pt/residuals_train_10.pt\n"
     ]
    },
    {
     "name": "stderr",
     "output_type": "stream",
     "text": [
      "100%|██████████| 25593/25593 [01:05<00:00, 388.13it/s]\n"
     ]
    },
    {
     "name": "stdout",
     "output_type": "stream",
     "text": [
      "val loss on next datafile\n",
      "{'val_mse': 0.01982361450791359, 'val_r2': 0.9593874663114548}\n",
      "train loss on next datafile\n",
      "training on ./residuals/tiny-stories-model-SGD-new.pt/residuals_train_11.pt\n"
     ]
    },
    {
     "name": "stderr",
     "output_type": "stream",
     "text": [
      "100%|██████████| 25593/25593 [01:10<00:00, 362.59it/s]\n"
     ]
    },
    {
     "name": "stdout",
     "output_type": "stream",
     "text": [
      "val loss on next datafile\n",
      "{'val_mse': 0.018788995454087853, 'val_r2': 0.9614871963858604}\n",
      "train loss on next datafile\n",
      "training on ./residuals/tiny-stories-model-SGD-new.pt/residuals_train_12.pt\n"
     ]
    },
    {
     "name": "stderr",
     "output_type": "stream",
     "text": [
      "100%|██████████| 21959/21959 [00:48<00:00, 452.23it/s]\n"
     ]
    },
    {
     "name": "stdout",
     "output_type": "stream",
     "text": [
      "val loss on next datafile\n",
      "{'val_mse': 0.018168985843658447, 'val_r2': 0.9627221077680588}\n",
      "train loss on next datafile\n",
      "training on ./residuals/tiny-stories-model-SGD-new.pt/residuals_train_2.pt\n"
     ]
    },
    {
     "name": "stderr",
     "output_type": "stream",
     "text": [
      "100%|██████████| 25593/25593 [01:01<00:00, 413.74it/s]\n"
     ]
    },
    {
     "name": "stdout",
     "output_type": "stream",
     "text": [
      "val loss on next datafile\n",
      "{'val_mse': 0.01725446106866002, 'val_r2': 0.9648886546492577}\n",
      "train loss on next datafile\n",
      "training on ./residuals/tiny-stories-model-SGD-new.pt/residuals_train_3.pt\n"
     ]
    },
    {
     "name": "stderr",
     "output_type": "stream",
     "text": [
      "100%|██████████| 25593/25593 [00:55<00:00, 459.75it/s]\n"
     ]
    },
    {
     "name": "stdout",
     "output_type": "stream",
     "text": [
      "val loss on next datafile\n",
      "{'val_mse': 0.0166741656139493, 'val_r2': 0.9661091938614845}\n",
      "train loss on next datafile\n",
      "training on ./residuals/tiny-stories-model-SGD-new.pt/residuals_train_4.pt\n"
     ]
    },
    {
     "name": "stderr",
     "output_type": "stream",
     "text": [
      "100%|██████████| 25593/25593 [00:57<00:00, 442.87it/s]\n"
     ]
    },
    {
     "name": "stdout",
     "output_type": "stream",
     "text": [
      "val loss on next datafile\n",
      "{'val_mse': 0.01623491896316409, 'val_r2': 0.9665751904249191}\n",
      "train loss on next datafile\n",
      "training on ./residuals/tiny-stories-model-SGD-new.pt/residuals_train_5.pt\n"
     ]
    },
    {
     "name": "stderr",
     "output_type": "stream",
     "text": [
      "100%|██████████| 25593/25593 [00:50<00:00, 503.20it/s]\n"
     ]
    },
    {
     "name": "stdout",
     "output_type": "stream",
     "text": [
      "val loss on next datafile\n",
      "{'val_mse': 0.016848399071022868, 'val_r2': 0.9654789045453072}\n",
      "train loss on next datafile\n",
      "training on ./residuals/tiny-stories-model-SGD-new.pt/residuals_train_6.pt\n"
     ]
    },
    {
     "name": "stderr",
     "output_type": "stream",
     "text": [
      "100%|██████████| 25593/25593 [00:56<00:00, 455.10it/s]\n"
     ]
    },
    {
     "name": "stdout",
     "output_type": "stream",
     "text": [
      "val loss on next datafile\n",
      "{'val_mse': 0.01658537471666932, 'val_r2': 0.9659921526908875}\n",
      "train loss on next datafile\n",
      "training on ./residuals/tiny-stories-model-SGD-new.pt/residuals_train_7.pt\n"
     ]
    },
    {
     "name": "stderr",
     "output_type": "stream",
     "text": [
      "100%|██████████| 25593/25593 [00:58<00:00, 436.55it/s]\n"
     ]
    },
    {
     "name": "stdout",
     "output_type": "stream",
     "text": [
      "val loss on next datafile\n",
      "{'val_mse': 0.015768779325298965, 'val_r2': 0.9675045683979988}\n",
      "train loss on next datafile\n",
      "training on ./residuals/tiny-stories-model-SGD-new.pt/residuals_train_8.pt\n"
     ]
    },
    {
     "name": "stderr",
     "output_type": "stream",
     "text": [
      "100%|██████████| 25593/25593 [01:02<00:00, 408.70it/s]\n"
     ]
    },
    {
     "name": "stdout",
     "output_type": "stream",
     "text": [
      "val loss on next datafile\n",
      "{'val_mse': 0.01624395279213786, 'val_r2': 0.9666733965277672}\n",
      "train loss on next datafile\n",
      "training on ./residuals/tiny-stories-model-SGD-new.pt/residuals_train_9.pt\n"
     ]
    },
    {
     "name": "stderr",
     "output_type": "stream",
     "text": [
      "100%|██████████| 25593/25593 [00:57<00:00, 443.01it/s]\n"
     ]
    }
   ],
   "source": [
    "optimizer = torch.optim.Adam(sae.parameters(), lr=sae_learning_rate)\n",
    "num_epochs = 1\n",
    "logging_interval = 50000\n",
    "\n",
    "logs = []\n",
    "for epoch in range(num_epochs):\n",
    "    for filepath in train_filepaths:\n",
    "        val_residuals_tensor = load_tensor(random.choice(val_filepaths))\n",
    "        print(f\"val loss on next datafile\")\n",
    "        val_data = estimate_sae_loss(1000, val_residuals_tensor)# keys: reconstruction_loss, sparsity_loss, total_loss\n",
    "        # wandb.log({\"val_reconstruction_loss\": val_data['reconstruction_loss'], \"val_sparsity_loss\": val_data['sparsity_loss'], \"val_total_loss\": val_data['total_loss'], \"val_r2_per_channel\": val_data['r2_per_channel'], \"val_active_features_per_token\": val_data['active_features_per_token']})\n",
    "        log = {\"val_mse\": val_data['avg_loss'], 'val_r2': val_data['avg_r2']}\n",
    "        print(log)\n",
    "        logs.append(log)\n",
    "        del val_residuals_tensor\n",
    "        residuals_tensor = load_tensor(filepath)\n",
    "        print(f\"train loss on next datafile\")\n",
    "        train_data = estimate_sae_loss(1000, residuals_tensor)# keys: reconstruction_loss, sparsity_loss, total_loss\n",
    "        # wandb.log({\"train_reconstruction_loss\": train_data['reconstruction_loss'], \"train_sparsity_loss\": train_data['sparsity_loss'], \"train_total_loss\": train_data['total_loss']})\n",
    "        print(f\"training on {filepath}\")\n",
    "\n",
    "        for i in tqdm.tqdm(range(0, residuals_tensor.shape[0]-B, B)):\n",
    "            start = i\n",
    "            end = i+B\n",
    "            assert residuals_tensor.shape[0] >= end, f\"too many train samples\"\n",
    "            sample = residuals_tensor[start:end]\n",
    "            optimizer.zero_grad()\n",
    "            sae_output = sae(sample)\n",
    "            total_loss = sae_output['total_loss']\n",
    "            total_loss.backward()\n",
    "            optimizer.step()\n",
    "            # if i % logging_interval == 0:\n",
    "            #     pass\n",
    "            #     wandb.log({\"frequent_reconstruction_loss\": sae_reconstruction_loss, \"frequent_sparsity_loss\": sae_sparsity_loss, \"frequent_total_loss\": total_loss})\n",
    "            \n",
    "# wandb.finish()\n",
    "# torch.save(sae.state_dict(), 'sae_weights.pth')\n",
    "            \n"
   ]
  },
  {
   "cell_type": "code",
   "execution_count": 20,
   "metadata": {},
   "outputs": [
    {
     "name": "stdout",
     "output_type": "stream",
     "text": [
      "SAE model saved to sae_models/sae-tiny-stories-model-SGD-new.pt\n"
     ]
    }
   ],
   "source": [
    "# Save the SAE model\n",
    "torch.save(sae.state_dict(), model_path)\n",
    "print(f\"SAE model saved to {model_path}\")\n"
   ]
  },
  {
   "cell_type": "code",
   "execution_count": 21,
   "metadata": {},
   "outputs": [
    {
     "data": {
      "text/plain": [
       "[{'val_mse': 0.4742486737668514, 'val_r2': 0.05032109748572111},\n",
       " {'val_mse': 0.02500575757585466, 'val_r2': 0.9486129805445671},\n",
       " {'val_mse': 0.02031538891606033, 'val_r2': 0.958683080971241},\n",
       " {'val_mse': 0.01982361450791359, 'val_r2': 0.9593874663114548},\n",
       " {'val_mse': 0.018788995454087853, 'val_r2': 0.9614871963858604},\n",
       " {'val_mse': 0.018168985843658447, 'val_r2': 0.9627221077680588},\n",
       " {'val_mse': 0.01725446106866002, 'val_r2': 0.9648886546492577},\n",
       " {'val_mse': 0.0166741656139493, 'val_r2': 0.9661091938614845},\n",
       " {'val_mse': 0.01623491896316409, 'val_r2': 0.9665751904249191},\n",
       " {'val_mse': 0.016848399071022868, 'val_r2': 0.9654789045453072},\n",
       " {'val_mse': 0.01658537471666932, 'val_r2': 0.9659921526908875},\n",
       " {'val_mse': 0.015768779325298965, 'val_r2': 0.9675045683979988},\n",
       " {'val_mse': 0.01624395279213786, 'val_r2': 0.9666733965277672}]"
      ]
     },
     "execution_count": 21,
     "metadata": {},
     "output_type": "execute_result"
    }
   ],
   "source": [
    "logs"
   ]
  },
  {
   "cell_type": "code",
   "execution_count": 22,
   "metadata": {},
   "outputs": [
    {
     "name": "stdout",
     "output_type": "stream",
     "text": [
      "Logs saved to logs/sae-tiny-stories-model-SGD-new.pt.log\n"
     ]
    }
   ],
   "source": [
    "import os\n",
    "import json\n",
    "\n",
    "# Create the logs directory if it doesn't exist\n",
    "os.makedirs('logs', exist_ok=True)\n",
    "\n",
    "# Save logs to the specified file\n",
    "log_file_path = f'logs/sae-{model_name}.log'\n",
    "with open(log_file_path, 'w') as f:\n",
    "    json.dump(logs, f, indent=2)\n",
    "\n",
    "print(f\"Logs saved to {log_file_path}\")"
   ]
  },
  {
   "cell_type": "code",
   "execution_count": 23,
   "metadata": {},
   "outputs": [
    {
     "name": "stdout",
     "output_type": "stream",
     "text": [
      "Successfully loaded: sae-6000.pt.log\n",
      "Successfully loaded: sae-tiny-stories-model-SGD-new.pt.log\n",
      "Total log files loaded: 2\n"
     ]
    }
   ],
   "source": [
    "import os\n",
    "import json\n",
    "\n",
    "logs_dir = 'logs'\n",
    "loaded_logs = {}\n",
    "\n",
    "# Iterate through all files in the logs directory\n",
    "for filename in os.listdir(logs_dir):\n",
    "    if filename.endswith('.log'):\n",
    "        file_path = os.path.join(logs_dir, filename)\n",
    "        with open(file_path, 'r') as f:\n",
    "            try:\n",
    "                # Load the JSON data from the file\n",
    "                log_data = json.load(f)\n",
    "                # Store the loaded data using the filename as the key\n",
    "                loaded_logs[filename] = log_data\n",
    "                print(f\"Successfully loaded: {filename}\")\n",
    "            except json.JSONDecodeError:\n",
    "                print(f\"Error decoding JSON from file: {filename}\")\n",
    "\n",
    "print(f\"Total log files loaded: {len(loaded_logs)}\")\n",
    "\n"
   ]
  },
  {
   "cell_type": "code",
   "execution_count": 24,
   "metadata": {},
   "outputs": [
    {
     "data": {
      "image/png": "[encoded data removed]",
      "text/plain": [
       "<Figure size 864x432 with 1 Axes>"
      ]
     },
     "metadata": {
      "needs_background": "light"
     },
     "output_type": "display_data"
    }
   ],
   "source": [
    "import matplotlib.pyplot as plt\n",
    "\n",
    "plt.figure(figsize=(12, 6))\n",
    "\n",
    "for key in loaded_logs.keys():\n",
    "    log_data = loaded_logs[key]\n",
    "    val_r2 = [entry['val_r2'] for entry in log_data]\n",
    "    epochs = range(len(val_r2))\n",
    "    \n",
    "    plt.plot(epochs, val_r2, label=key)\n",
    "\n",
    "plt.xlabel('# of 3GB chunks of residuals trained on')\n",
    "plt.ylabel('Validation R2 Score')\n",
    "plt.title('Validation R2 Score for Different Models')\n",
    "plt.legend()\n",
    "plt.grid(True)\n",
    "plt.ylim(0, 1)  # Set y-axis range from 0 to 1\n",
    "plt.show()"
   ]
  }
 ],
 "metadata": {
  "kernelspec": {
   "display_name": "ai",
   "language": "python",
   "name": "python3"
  },
  "language_info": {
   "codemirror_mode": {
    "name": "ipython",
    "version": 3
   },
   "file_extension": ".py",
   "mimetype": "text/x-python",
   "name": "python",
   "nbconvert_exporter": "python",
   "pygments_lexer": "ipython3",
   "version": "3.10.12"
  }
 },
 "nbformat": 4,
 "nbformat_minor": 2
}
