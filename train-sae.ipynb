{
 "cells": [
  {
   "cell_type": "code",
   "execution_count": 1,
   "metadata": {},
   "outputs": [
    {
     "name": "stdout",
     "output_type": "stream",
     "text": [
      "torch.Size([128, 1024])\n",
      "W&B disabled.\n"
     ]
    }
   ],
   "source": [
    "#----- imports --------\n",
    "\n",
    "import tqdm\n",
    "import torch\n",
    "from torch import nn\n",
    "from torch.nn import functional as F\n",
    "import wandb\n",
    "import os\n",
    "import tokenizers\n",
    "from matplotlib import pyplot as plt\n",
    "import numpy as np\n",
    "import json\n",
    "import random\n",
    "import tqdm\n",
    "from sae import TopKSparseAutoencoder\n",
    "\n",
    "\n",
    "device= 'cuda' if torch.cuda.is_available() else 'cpu'\n",
    "torch.set_default_device(device)\n",
    "assert device == 'cuda', \"This notebook is not optimized for CPU\"\n",
    "\n",
    "torch.backends.cuda.matmul.allow_tf32 = True # for h100 gpu\n",
    "\n",
    "config = {\n",
    "    \"learning_rate\": 1e-2,\n",
    "    # 'sae_size': 2**18,\n",
    "    'sae_size': 2**14,\n",
    "    \"sae_topk\": 20,\n",
    "    \"sae_learning_rate\": 5e-5,\n",
    "    \"sae_sparsity_penalty\": 250,\n",
    "    \"model_embedding_layer\": 6,\n",
    "    \"eval_interval\": 500,\n",
    "    \"max_iters\": 60000, \n",
    "    \"H\": 32, # hidden dimension size\n",
    "    \"B\": 128,\n",
    "    \"T\": 256,\n",
    "    \"C\": 256,\n",
    "    \"feedforward_factor\": 3,\n",
    "    \"n_heads\": 8,\n",
    "    \"n_layers\": 12,\n",
    "    \"tokenizer_vocab_size\": 2**13,\n",
    "    \"git_hash\": os.popen(\"git rev-parse HEAD\").read().strip()\n",
    "}\n",
    "\n",
    "# initial\n",
    "for k,v in config.items():\n",
    "    locals ()[k] = v\n",
    "\n",
    "\n",
    "\n",
    "# model_name = \"tiny-stories-model-normal-0.44-loss.pt\"\n",
    "model_name = \"tiny-stories-model-kurtosis-regularize-0.44-loss.pt\"\n",
    "residuals_path = f'./residuals/{model_name}'\n",
    "\n",
    "sae_models_dir = 'sae_models'\n",
    "if not os.path.exists(sae_models_dir):\n",
    "    os.makedirs(sae_models_dir)\n",
    "    print(f\"Created directory: {sae_models_dir}\")\n",
    "else:\n",
    "    print(f\"Directory already exists: {sae_models_dir}\")\n",
    "\n",
    "model_path = f'{sae_models_dir}/sae-{model_name}'\n",
    "\n",
    "!wandb disabled\n",
    "\n",
    "# !wandb enabled\n",
    "# wandb.init(\n",
    "#    project = \"scaling-monosemanticity-vanilla\",\n",
    "#    config = config,\n",
    "# )"
   ]
  },
  {
   "cell_type": "code",
   "execution_count": 2,
   "metadata": {},
   "outputs": [
    {
     "name": "stdout",
     "output_type": "stream",
     "text": [
      "tensor([0.0000, 0.9200, 0.9200, 1.0000], device='cuda:0')\n"
     ]
    }
   ],
   "source": [
    "\n",
    "a = torch.tensor([[1.25,2,3,4], # predicted example 1\n",
    "                  [1.25,2.4,3.4,4.5]], dtype=torch.float32) # predicted example 2\n",
    "\n",
    "b = torch.tensor([[1,   2,   3,   4  ], # actual example 1\n",
    "                  [1.5, 2.5, 3.5, 4.5]], dtype=torch.float32) # actual example 2\n",
    "\n",
    "def r2_per_channel(predicted, actual):\n",
    "    channel_means = torch.mean(actual, dim=-2)\n",
    "    avg_squared_error_per_channel = torch.mean((actual - channel_means)**2, dim=-2)\n",
    "    avg_squared_error_predicted = torch.mean((predicted - actual)**2, dim=-2)\n",
    "    return 1 - avg_squared_error_predicted / avg_squared_error_per_channel\n",
    "\n",
    "print(r2_per_channel(a, b))"
   ]
  },
  {
   "cell_type": "code",
   "execution_count": 3,
   "metadata": {},
   "outputs": [
    {
     "name": "stdout",
     "output_type": "stream",
     "text": [
      "tensor([0., 1., 2., 3.], device='cuda:0')\n"
     ]
    }
   ],
   "source": [
    "sample_feature_activations = torch.tensor(\n",
    "    [\n",
    "        [0, 0, 0, 0],\n",
    "        [0, 0, 1, 0],\n",
    "        [0, 3, 0, 1],\n",
    "        [1, 1, 0, 1]\n",
    "    ]\n",
    ")\n",
    "\n",
    "def active_features_per_token(feature_activations):\n",
    "    nonzero_counts = (feature_activations != 0).sum(dim=-1).to(torch.float32)\n",
    "    return nonzero_counts\n",
    "\n",
    "print(active_features_per_token(sample_feature_activations))"
   ]
  },
  {
   "cell_type": "code",
   "execution_count": 4,
   "metadata": {},
   "outputs": [],
   "source": [
    "# class SparseAutoEncoder(nn.Module):\n",
    "#     def __init__(self, activations_dim, sparse_dim):\n",
    "#         super().__init__()\n",
    "#         self.activations_dim = activations_dim\n",
    "#         encoder_weight = torch.randn(activations_dim, sparse_dim)\n",
    "#         decoder_weight = torch.randn(sparse_dim, activations_dim)\n",
    "#         self.encoder_bias = nn.Parameter(torch.zeros(sparse_dim))\n",
    "#         self.decoder_bias = nn.Parameter(torch.zeros(activations_dim))\n",
    "#         self.sparse_dim = sparse_dim\n",
    "#         self.sparsity_penalty = sae_sparsity_penalty\n",
    "\n",
    "#         # set the encoder_weight to have the activations dim to be normalized to have l2 norm randomly between 0.05 and 1\n",
    "#         direction_lengths = torch.rand(sparse_dim) * 0.95 + 0.05\n",
    "#         # normalize the encoder_weight along columns (dim -2) to have l2 norm of 1\n",
    "#         encoder_weight = F.normalize(encoder_weight, p=2, dim=0)\n",
    "#         # multiply the column norms by the direction_lengths\n",
    "#         encoder_weight = encoder_weight * direction_lengths\n",
    "#         # make the decoder weight be the transpose of the encoder_weight\n",
    "#         decoder_weight = torch.transpose(encoder_weight, 0, 1)\n",
    "\n",
    "#         self.encoder_weight = nn.Parameter(encoder_weight)\n",
    "#         self.decoder_weight = nn.Parameter(decoder_weight)\n",
    "\n",
    "\n",
    "\n",
    "#     def forward(self, x):\n",
    "#         # preprocessing normalization\n",
    "#         # now on average any embedding has euclidian length 1\n",
    "\n",
    "#         encoded = F.relu(x @ self.encoder_weight + self.encoder_bias) # all act. are positive\n",
    "#         decoded = encoded @ self.decoder_weight + self.decoder_bias\n",
    "\n",
    "#         reconstruction_l2_loss = F.mse_loss(x, decoded)\n",
    "\n",
    "#         # every row in the tall decoder matrix\n",
    "#         # is the \"sum\" of the total influence of a feature on the output\n",
    "#         # the l2 norm of that row is the \"influence\" of that feature on that output\n",
    "#         # calculate that, store as row\n",
    "#         decoder_l2 = torch.linalg.norm(self.decoder_weight, dim=-1)\n",
    "#         # the feature activation is the sparse activation * it's influence on output\n",
    "#         feature_activations = (encoded) * decoder_l2\n",
    "#         # sum of feature activations\n",
    "#         # divide by the batch size * sequence length\n",
    "#         # should work if there is no batch dimension\n",
    "#         if x.ndim == 3:\n",
    "#             batch_dim, sequence_dim, _ = x.shape\n",
    "#         elif x.ndim == 2:\n",
    "#             batch_dim = 1\n",
    "#             sequence_dim, _ = x.shape\n",
    "#         elif x.ndim == 1:\n",
    "#             batch_dim = 1\n",
    "#             sequence_dim = 1\n",
    "#         else:\n",
    "#             raise ValueError(f\"x has {x.ndim} dimensions, but it should have 1, 2, or 3\")\n",
    "        \n",
    "#         sparsity_loss = torch.sum(feature_activations) * self.sparsity_penalty / (batch_dim * sequence_dim * self.sparse_dim)\n",
    "\n",
    "#         total_loss = reconstruction_l2_loss + sparsity_loss\n",
    "\n",
    "#         return {\"encoded\": encoded, \"decoded\": decoded, 'feature_activations': feature_activations, \"reconstruction_loss\": reconstruction_l2_loss, \"sparsity_loss\": sparsity_loss, \"total_loss\": total_loss}\n",
    "\n",
    "\n",
    "\n",
    "\n",
    "\n",
    "# sae = SparseAutoEncoder(C, sae_size)\n",
    "\n",
    "\n"
   ]
  },
  {
   "cell_type": "code",
   "execution_count": 5,
   "metadata": {},
   "outputs": [],
   "source": [
    "sae = TopKSparseAutoencoder(C, sae_size, sae_topk)\n",
    "optimizer = torch.optim.Adam(sae.parameters(), lr=sae_learning_rate)"
   ]
  },
  {
   "cell_type": "code",
   "execution_count": 6,
   "metadata": {},
   "outputs": [
    {
     "name": "stdout",
     "output_type": "stream",
     "text": [
      "Total trainable parameters: 8405504\n"
     ]
    }
   ],
   "source": [
    "# Calculate the total number of parameters\n",
    "total_params = sum(p.numel() for p in sae.parameters() if p.requires_grad)\n",
    "print(f\"Total trainable parameters: {total_params}\")"
   ]
  },
  {
   "cell_type": "code",
   "execution_count": 7,
   "metadata": {},
   "outputs": [],
   "source": [
    "def load_tensor(filepath):\n",
    "    # load the .pt tensor\n",
    "    tensor = torch.load(filepath)\n",
    "    tensor = torch.cat(tensor, dim=0)\n",
    "    tensor = tensor.to(device)\n",
    "    return tensor\n",
    "    "
   ]
  },
  {
   "cell_type": "code",
   "execution_count": 8,
   "metadata": {},
   "outputs": [
    {
     "data": {
      "text/plain": [
       "tensor(0.6725, device='cuda:0', grad_fn=<MeanBackward0>)"
      ]
     },
     "execution_count": 8,
     "metadata": {},
     "output_type": "execute_result"
    }
   ],
   "source": [
    "sae.forward(torch.randn(C))['mse']"
   ]
  },
  {
   "cell_type": "code",
   "execution_count": 9,
   "metadata": {},
   "outputs": [
    {
     "data": {
      "text/plain": [
       "{'avg_loss': 4.284826278686523, 'avg_r2': -0.23735283315181732}"
      ]
     },
     "execution_count": 9,
     "metadata": {},
     "output_type": "execute_result"
    }
   ],
   "source": [
    "@torch.no_grad()\n",
    "def estimate_sae_loss(eval_iters, tensor):\n",
    "    sae_loss = 0\n",
    "    count = 0\n",
    "    sae_r2_sum = 0\n",
    "    \n",
    "    for i in range(0, eval_iters, B):\n",
    "        count += 1\n",
    "        start = i\n",
    "        end = i+B\n",
    "        assert tensor.shape[0] >= end, f\"too many eval_iters\"\n",
    "        sample = tensor[start:end]\n",
    "        sae_output = sae(sample, return_r2=True)\n",
    "        sae_loss += sae_output['mse'].item()\n",
    "        sae_r2_sum += sae_output['mean_r2'].item()\n",
    "    avg_loss = sae_loss/count\n",
    "    avg_r2 = sae_r2_sum/count\n",
    "    return {\"avg_loss\": avg_loss, \"avg_r2\": avg_r2}\n",
    "\n",
    "    \n",
    "\n",
    "\n",
    "estimate_sae_loss(100, load_tensor(f\"{residuals_path}/residuals_train_1.pt\"))"
   ]
  },
  {
   "cell_type": "code",
   "execution_count": 10,
   "metadata": {},
   "outputs": [],
   "source": [
    "train_filepaths = []\n",
    "val_filepaths = []\n",
    "\n",
    "for file in os.listdir(f'{residuals_path}'):\n",
    "    if file.startswith(f\"residuals_train\"):\n",
    "        train_filepaths.append(f\"{residuals_path}/{file}\")\n",
    "    elif file.startswith(f\"residuals_val\"):\n",
    "        val_filepaths.append(f\"{residuals_path}/{file}\")\n",
    "\n"
   ]
  },
  {
   "cell_type": "code",
   "execution_count": 12,
   "metadata": {},
   "outputs": [
    {
     "name": "stdout",
     "output_type": "stream",
     "text": [
      "val loss on next datafile\n",
      "{'val_mse': 4.311060190200806, 'val_r2': -0.2812201175838709}\n",
      "train loss on next datafile\n",
      "training on ./residuals/tiny-stories-model-kurtosis-regularize-0.44-loss.pt/residuals_train_0.pt\n"
     ]
    },
    {
     "name": "stderr",
     "output_type": "stream",
     "text": [
      "100%|██████████| 25593/25593 [02:20<00:00, 182.76it/s]\n"
     ]
    },
    {
     "name": "stdout",
     "output_type": "stream",
     "text": [
      "val loss on next datafile\n",
      "{'val_mse': 0.5060636103153229, 'val_r2': 0.8584861606359482}\n",
      "train loss on next datafile\n",
      "training on ./residuals/tiny-stories-model-kurtosis-regularize-0.44-loss.pt/residuals_train_1.pt\n"
     ]
    },
    {
     "name": "stderr",
     "output_type": "stream",
     "text": [
      "100%|██████████| 25593/25593 [02:19<00:00, 183.25it/s]\n"
     ]
    },
    {
     "name": "stdout",
     "output_type": "stream",
     "text": [
      "val loss on next datafile\n",
      "{'val_mse': 0.4359603635966778, 'val_r2': 0.8778828680515289}\n",
      "train loss on next datafile\n",
      "training on ./residuals/tiny-stories-model-kurtosis-regularize-0.44-loss.pt/residuals_train_10.pt\n"
     ]
    },
    {
     "name": "stderr",
     "output_type": "stream",
     "text": [
      "100%|██████████| 25593/25593 [02:20<00:00, 182.37it/s]\n"
     ]
    },
    {
     "name": "stdout",
     "output_type": "stream",
     "text": [
      "val loss on next datafile\n",
      "{'val_mse': 0.4039783366024494, 'val_r2': 0.8745994493365288}\n",
      "train loss on next datafile\n",
      "training on ./residuals/tiny-stories-model-kurtosis-regularize-0.44-loss.pt/residuals_train_11.pt\n"
     ]
    },
    {
     "name": "stderr",
     "output_type": "stream",
     "text": [
      "100%|██████████| 25593/25593 [02:21<00:00, 180.50it/s]\n"
     ]
    },
    {
     "name": "stdout",
     "output_type": "stream",
     "text": [
      "val loss on next datafile\n",
      "{'val_mse': 0.39464476332068443, 'val_r2': 0.8893588408827782}\n",
      "train loss on next datafile\n",
      "training on ./residuals/tiny-stories-model-kurtosis-regularize-0.44-loss.pt/residuals_train_12.pt\n"
     ]
    },
    {
     "name": "stderr",
     "output_type": "stream",
     "text": [
      "100%|██████████| 21959/21959 [02:01<00:00, 180.57it/s]\n"
     ]
    },
    {
     "name": "stdout",
     "output_type": "stream",
     "text": [
      "val loss on next datafile\n",
      "{'val_mse': 0.37684527039527893, 'val_r2': 0.8828586935997009}\n",
      "train loss on next datafile\n",
      "training on ./residuals/tiny-stories-model-kurtosis-regularize-0.44-loss.pt/residuals_train_2.pt\n"
     ]
    },
    {
     "name": "stderr",
     "output_type": "stream",
     "text": [
      "100%|██████████| 25593/25593 [02:22<00:00, 179.66it/s]\n"
     ]
    },
    {
     "name": "stdout",
     "output_type": "stream",
     "text": [
      "val loss on next datafile\n",
      "{'val_mse': 0.36923573911190033, 'val_r2': 0.8851298615336418}\n",
      "train loss on next datafile\n",
      "training on ./residuals/tiny-stories-model-kurtosis-regularize-0.44-loss.pt/residuals_train_3.pt\n"
     ]
    },
    {
     "name": "stderr",
     "output_type": "stream",
     "text": [
      "100%|██████████| 25593/25593 [02:22<00:00, 179.57it/s]\n"
     ]
    },
    {
     "name": "stdout",
     "output_type": "stream",
     "text": [
      "val loss on next datafile\n",
      "{'val_mse': 0.35431675612926483, 'val_r2': 0.8891203999519348}\n",
      "train loss on next datafile\n",
      "training on ./residuals/tiny-stories-model-kurtosis-regularize-0.44-loss.pt/residuals_train_4.pt\n"
     ]
    },
    {
     "name": "stderr",
     "output_type": "stream",
     "text": [
      "  9%|▊         | 2231/25593 [00:12<02:10, 179.20it/s]\n"
     ]
    },
    {
     "ename": "KeyboardInterrupt",
     "evalue": "",
     "output_type": "error",
     "traceback": [
      "\u001b[0;31m---------------------------------------------------------------------------\u001b[0m",
      "\u001b[0;31mKeyboardInterrupt\u001b[0m                         Traceback (most recent call last)",
      "\u001b[0;32m/tmp/ipykernel_31482/2716675713.py\u001b[0m in \u001b[0;36m<module>\u001b[0;34m\u001b[0m\n\u001b[1;32m     26\u001b[0m             \u001b[0msample\u001b[0m \u001b[0;34m=\u001b[0m \u001b[0mresiduals_tensor\u001b[0m\u001b[0;34m[\u001b[0m\u001b[0mstart\u001b[0m\u001b[0;34m:\u001b[0m\u001b[0mend\u001b[0m\u001b[0;34m]\u001b[0m\u001b[0;34m\u001b[0m\u001b[0;34m\u001b[0m\u001b[0m\n\u001b[1;32m     27\u001b[0m             \u001b[0moptimizer\u001b[0m\u001b[0;34m.\u001b[0m\u001b[0mzero_grad\u001b[0m\u001b[0;34m(\u001b[0m\u001b[0;34m)\u001b[0m\u001b[0;34m\u001b[0m\u001b[0;34m\u001b[0m\u001b[0m\n\u001b[0;32m---> 28\u001b[0;31m             \u001b[0msae_output\u001b[0m \u001b[0;34m=\u001b[0m \u001b[0msae\u001b[0m\u001b[0;34m(\u001b[0m\u001b[0msample\u001b[0m\u001b[0;34m)\u001b[0m\u001b[0;34m\u001b[0m\u001b[0;34m\u001b[0m\u001b[0m\n\u001b[0m\u001b[1;32m     29\u001b[0m             \u001b[0mtotal_loss\u001b[0m \u001b[0;34m=\u001b[0m \u001b[0msae_output\u001b[0m\u001b[0;34m[\u001b[0m\u001b[0;34m'total_loss'\u001b[0m\u001b[0;34m]\u001b[0m\u001b[0;34m\u001b[0m\u001b[0;34m\u001b[0m\u001b[0m\n\u001b[1;32m     30\u001b[0m             \u001b[0mtotal_loss\u001b[0m\u001b[0;34m.\u001b[0m\u001b[0mbackward\u001b[0m\u001b[0;34m(\u001b[0m\u001b[0;34m)\u001b[0m\u001b[0;34m\u001b[0m\u001b[0;34m\u001b[0m\u001b[0m\n",
      "\u001b[0;32m/usr/lib/python3/dist-packages/torch/nn/modules/module.py\u001b[0m in \u001b[0;36m_call_impl\u001b[0;34m(self, *args, **kwargs)\u001b[0m\n\u001b[1;32m   1499\u001b[0m                 \u001b[0;32mor\u001b[0m \u001b[0m_global_backward_pre_hooks\u001b[0m \u001b[0;32mor\u001b[0m \u001b[0m_global_backward_hooks\u001b[0m\u001b[0;34m\u001b[0m\u001b[0;34m\u001b[0m\u001b[0m\n\u001b[1;32m   1500\u001b[0m                 or _global_forward_hooks or _global_forward_pre_hooks):\n\u001b[0;32m-> 1501\u001b[0;31m             \u001b[0;32mreturn\u001b[0m \u001b[0mforward_call\u001b[0m\u001b[0;34m(\u001b[0m\u001b[0;34m*\u001b[0m\u001b[0margs\u001b[0m\u001b[0;34m,\u001b[0m \u001b[0;34m**\u001b[0m\u001b[0mkwargs\u001b[0m\u001b[0;34m)\u001b[0m\u001b[0;34m\u001b[0m\u001b[0;34m\u001b[0m\u001b[0m\n\u001b[0m\u001b[1;32m   1502\u001b[0m         \u001b[0;31m# Do not call functions when jit is used\u001b[0m\u001b[0;34m\u001b[0m\u001b[0;34m\u001b[0m\u001b[0m\n\u001b[1;32m   1503\u001b[0m         \u001b[0mfull_backward_hooks\u001b[0m\u001b[0;34m,\u001b[0m \u001b[0mnon_full_backward_hooks\u001b[0m \u001b[0;34m=\u001b[0m \u001b[0;34m[\u001b[0m\u001b[0;34m]\u001b[0m\u001b[0;34m,\u001b[0m \u001b[0;34m[\u001b[0m\u001b[0;34m]\u001b[0m\u001b[0;34m\u001b[0m\u001b[0;34m\u001b[0m\u001b[0m\n",
      "\u001b[0;32m~/h100/code/Budget-Scaling-Monosemanticity/sae.py\u001b[0m in \u001b[0;36mforward\u001b[0;34m(self, x, return_r2)\u001b[0m\n\u001b[1;32m     43\u001b[0m         \u001b[0mencoded\u001b[0m \u001b[0;34m=\u001b[0m \u001b[0mself\u001b[0m\u001b[0;34m.\u001b[0m\u001b[0mencode\u001b[0m\u001b[0;34m(\u001b[0m\u001b[0mx\u001b[0m\u001b[0;34m)\u001b[0m\u001b[0;34m\u001b[0m\u001b[0;34m\u001b[0m\u001b[0m\n\u001b[1;32m     44\u001b[0m         \u001b[0mencoded\u001b[0m\u001b[0;34m,\u001b[0m \u001b[0mvalues\u001b[0m\u001b[0;34m,\u001b[0m \u001b[0mindices\u001b[0m \u001b[0;34m=\u001b[0m \u001b[0mself\u001b[0m\u001b[0;34m.\u001b[0m\u001b[0mkeep_topk\u001b[0m\u001b[0;34m(\u001b[0m\u001b[0mencoded\u001b[0m\u001b[0;34m,\u001b[0m \u001b[0mself\u001b[0m\u001b[0;34m.\u001b[0m\u001b[0mtopk\u001b[0m\u001b[0;34m)\u001b[0m\u001b[0;34m\u001b[0m\u001b[0;34m\u001b[0m\u001b[0m\n\u001b[0;32m---> 45\u001b[0;31m         \u001b[0mdecoded\u001b[0m \u001b[0;34m=\u001b[0m \u001b[0mself\u001b[0m\u001b[0;34m.\u001b[0m\u001b[0mdecode\u001b[0m\u001b[0;34m(\u001b[0m\u001b[0mencoded\u001b[0m\u001b[0;34m)\u001b[0m \u001b[0;34m+\u001b[0m \u001b[0mself\u001b[0m\u001b[0;34m.\u001b[0m\u001b[0mbias\u001b[0m\u001b[0;34m\u001b[0m\u001b[0;34m\u001b[0m\u001b[0m\n\u001b[0m\u001b[1;32m     46\u001b[0m         \u001b[0mmse\u001b[0m \u001b[0;34m=\u001b[0m \u001b[0mtorch\u001b[0m\u001b[0;34m.\u001b[0m\u001b[0mmean\u001b[0m\u001b[0;34m(\u001b[0m\u001b[0;34m(\u001b[0m\u001b[0mx\u001b[0m \u001b[0;34m-\u001b[0m \u001b[0mdecoded\u001b[0m\u001b[0;34m)\u001b[0m\u001b[0;34m**\u001b[0m\u001b[0;36m2\u001b[0m\u001b[0;34m)\u001b[0m\u001b[0;34m\u001b[0m\u001b[0;34m\u001b[0m\u001b[0m\n\u001b[1;32m     47\u001b[0m         \u001b[0;32mif\u001b[0m \u001b[0mreturn_r2\u001b[0m \u001b[0;34m==\u001b[0m \u001b[0;32mFalse\u001b[0m\u001b[0;34m:\u001b[0m\u001b[0;34m\u001b[0m\u001b[0;34m\u001b[0m\u001b[0m\n",
      "\u001b[0;32m/usr/lib/python3/dist-packages/torch/nn/modules/module.py\u001b[0m in \u001b[0;36m_call_impl\u001b[0;34m(self, *args, **kwargs)\u001b[0m\n\u001b[1;32m   1499\u001b[0m                 \u001b[0;32mor\u001b[0m \u001b[0m_global_backward_pre_hooks\u001b[0m \u001b[0;32mor\u001b[0m \u001b[0m_global_backward_hooks\u001b[0m\u001b[0;34m\u001b[0m\u001b[0;34m\u001b[0m\u001b[0m\n\u001b[1;32m   1500\u001b[0m                 or _global_forward_hooks or _global_forward_pre_hooks):\n\u001b[0;32m-> 1501\u001b[0;31m             \u001b[0;32mreturn\u001b[0m \u001b[0mforward_call\u001b[0m\u001b[0;34m(\u001b[0m\u001b[0;34m*\u001b[0m\u001b[0margs\u001b[0m\u001b[0;34m,\u001b[0m \u001b[0;34m**\u001b[0m\u001b[0mkwargs\u001b[0m\u001b[0;34m)\u001b[0m\u001b[0;34m\u001b[0m\u001b[0;34m\u001b[0m\u001b[0m\n\u001b[0m\u001b[1;32m   1502\u001b[0m         \u001b[0;31m# Do not call functions when jit is used\u001b[0m\u001b[0;34m\u001b[0m\u001b[0;34m\u001b[0m\u001b[0m\n\u001b[1;32m   1503\u001b[0m         \u001b[0mfull_backward_hooks\u001b[0m\u001b[0;34m,\u001b[0m \u001b[0mnon_full_backward_hooks\u001b[0m \u001b[0;34m=\u001b[0m \u001b[0;34m[\u001b[0m\u001b[0;34m]\u001b[0m\u001b[0;34m,\u001b[0m \u001b[0;34m[\u001b[0m\u001b[0;34m]\u001b[0m\u001b[0;34m\u001b[0m\u001b[0;34m\u001b[0m\u001b[0m\n",
      "\u001b[0;32m/usr/lib/python3/dist-packages/torch/nn/modules/linear.py\u001b[0m in \u001b[0;36mforward\u001b[0;34m(self, input)\u001b[0m\n\u001b[1;32m    112\u001b[0m \u001b[0;34m\u001b[0m\u001b[0m\n\u001b[1;32m    113\u001b[0m     \u001b[0;32mdef\u001b[0m \u001b[0mforward\u001b[0m\u001b[0;34m(\u001b[0m\u001b[0mself\u001b[0m\u001b[0;34m,\u001b[0m \u001b[0minput\u001b[0m\u001b[0;34m:\u001b[0m \u001b[0mTensor\u001b[0m\u001b[0;34m)\u001b[0m \u001b[0;34m->\u001b[0m \u001b[0mTensor\u001b[0m\u001b[0;34m:\u001b[0m\u001b[0;34m\u001b[0m\u001b[0;34m\u001b[0m\u001b[0m\n\u001b[0;32m--> 114\u001b[0;31m         \u001b[0;32mreturn\u001b[0m \u001b[0mF\u001b[0m\u001b[0;34m.\u001b[0m\u001b[0mlinear\u001b[0m\u001b[0;34m(\u001b[0m\u001b[0minput\u001b[0m\u001b[0;34m,\u001b[0m \u001b[0mself\u001b[0m\u001b[0;34m.\u001b[0m\u001b[0mweight\u001b[0m\u001b[0;34m,\u001b[0m \u001b[0mself\u001b[0m\u001b[0;34m.\u001b[0m\u001b[0mbias\u001b[0m\u001b[0;34m)\u001b[0m\u001b[0;34m\u001b[0m\u001b[0;34m\u001b[0m\u001b[0m\n\u001b[0m\u001b[1;32m    115\u001b[0m \u001b[0;34m\u001b[0m\u001b[0m\n\u001b[1;32m    116\u001b[0m     \u001b[0;32mdef\u001b[0m \u001b[0mextra_repr\u001b[0m\u001b[0;34m(\u001b[0m\u001b[0mself\u001b[0m\u001b[0;34m)\u001b[0m \u001b[0;34m->\u001b[0m \u001b[0mstr\u001b[0m\u001b[0;34m:\u001b[0m\u001b[0;34m\u001b[0m\u001b[0;34m\u001b[0m\u001b[0m\n",
      "\u001b[0;32m/usr/lib/python3/dist-packages/torch/utils/_device.py\u001b[0m in \u001b[0;36m__torch_function__\u001b[0;34m(self, func, types, args, kwargs)\u001b[0m\n\u001b[1;32m     60\u001b[0m         \u001b[0;32mif\u001b[0m \u001b[0mfunc\u001b[0m \u001b[0;32min\u001b[0m \u001b[0m_device_constructors\u001b[0m\u001b[0;34m(\u001b[0m\u001b[0;34m)\u001b[0m \u001b[0;32mand\u001b[0m \u001b[0mkwargs\u001b[0m\u001b[0;34m.\u001b[0m\u001b[0mget\u001b[0m\u001b[0;34m(\u001b[0m\u001b[0;34m'device'\u001b[0m\u001b[0;34m)\u001b[0m \u001b[0;32mis\u001b[0m \u001b[0;32mNone\u001b[0m\u001b[0;34m:\u001b[0m\u001b[0;34m\u001b[0m\u001b[0;34m\u001b[0m\u001b[0m\n\u001b[1;32m     61\u001b[0m             \u001b[0mkwargs\u001b[0m\u001b[0;34m[\u001b[0m\u001b[0;34m'device'\u001b[0m\u001b[0;34m]\u001b[0m \u001b[0;34m=\u001b[0m \u001b[0mself\u001b[0m\u001b[0;34m.\u001b[0m\u001b[0mdevice\u001b[0m\u001b[0;34m\u001b[0m\u001b[0;34m\u001b[0m\u001b[0m\n\u001b[0;32m---> 62\u001b[0;31m         \u001b[0;32mreturn\u001b[0m \u001b[0mfunc\u001b[0m\u001b[0;34m(\u001b[0m\u001b[0;34m*\u001b[0m\u001b[0margs\u001b[0m\u001b[0;34m,\u001b[0m \u001b[0;34m**\u001b[0m\u001b[0mkwargs\u001b[0m\u001b[0;34m)\u001b[0m\u001b[0;34m\u001b[0m\u001b[0;34m\u001b[0m\u001b[0m\n\u001b[0m\u001b[1;32m     63\u001b[0m \u001b[0;34m\u001b[0m\u001b[0m\n\u001b[1;32m     64\u001b[0m \u001b[0;31m# NB: This is directly called from C++ in torch/csrc/Device.cpp\u001b[0m\u001b[0;34m\u001b[0m\u001b[0;34m\u001b[0m\u001b[0m\n",
      "\u001b[0;31mKeyboardInterrupt\u001b[0m: "
     ]
    }
   ],
   "source": [
    "optimizer = torch.optim.Adam(sae.parameters(), lr=sae_learning_rate)\n",
    "num_epochs = 1\n",
    "logging_interval = 50000\n",
    "\n",
    "logs = []\n",
    "for epoch in range(num_epochs):\n",
    "    for filepath in train_filepaths:\n",
    "        val_residuals_tensor = load_tensor(random.choice(val_filepaths))\n",
    "        print(f\"val loss on next datafile\")\n",
    "        val_data = estimate_sae_loss(1000, val_residuals_tensor)# keys: reconstruction_loss, sparsity_loss, total_loss\n",
    "        # wandb.log({\"val_reconstruction_loss\": val_data['reconstruction_loss'], \"val_sparsity_loss\": val_data['sparsity_loss'], \"val_total_loss\": val_data['total_loss'], \"val_r2_per_channel\": val_data['r2_per_channel'], \"val_active_features_per_token\": val_data['active_features_per_token']})\n",
    "        log = {\"val_mse\": val_data['avg_loss'], 'val_r2': val_data['avg_r2']}\n",
    "        print(log)\n",
    "        logs.append(log)\n",
    "        del val_residuals_tensor\n",
    "        residuals_tensor = load_tensor(filepath)\n",
    "        print(f\"train loss on next datafile\")\n",
    "        train_data = estimate_sae_loss(1000, residuals_tensor)# keys: reconstruction_loss, sparsity_loss, total_loss\n",
    "        # wandb.log({\"train_reconstruction_loss\": train_data['reconstruction_loss'], \"train_sparsity_loss\": train_data['sparsity_loss'], \"train_total_loss\": train_data['total_loss']})\n",
    "        print(f\"training on {filepath}\")\n",
    "\n",
    "        for i in tqdm.tqdm(range(0, residuals_tensor.shape[0]-B, B)):\n",
    "            start = i\n",
    "            end = i+B\n",
    "            assert residuals_tensor.shape[0] >= end, f\"too many train samples\"\n",
    "            sample = residuals_tensor[start:end]\n",
    "            optimizer.zero_grad()\n",
    "            sae_output = sae(sample)\n",
    "            total_loss = sae_output['total_loss']\n",
    "            total_loss.backward()\n",
    "            optimizer.step()\n",
    "            # if i % logging_interval == 0:\n",
    "            #     pass\n",
    "            #     wandb.log({\"frequent_reconstruction_loss\": sae_reconstruction_loss, \"frequent_sparsity_loss\": sae_sparsity_loss, \"frequent_total_loss\": total_loss})\n",
    "            \n",
    "# wandb.finish()\n",
    "# torch.save(sae.state_dict(), 'sae_weights.pth')\n",
    "            \n"
   ]
  },
  {
   "cell_type": "code",
   "execution_count": 21,
   "metadata": {},
   "outputs": [
    {
     "name": "stdout",
     "output_type": "stream",
     "text": [
      "SAE model saved to sae_models/sae-tiny-stories-model-kurtosis-regularize-0.44-loss.pt\n"
     ]
    }
   ],
   "source": [
    "# Save the SAE model\n",
    "torch.save(sae.state_dict(), model_path)\n",
    "print(f\"SAE model saved to {model_path}\")\n"
   ]
  },
  {
   "cell_type": "code",
   "execution_count": 13,
   "metadata": {},
   "outputs": [
    {
     "data": {
      "text/plain": [
       "[{'val_mse': 4.311060190200806, 'val_r2': -0.2812201175838709},\n",
       " {'val_mse': 0.5060636103153229, 'val_r2': 0.8584861606359482},\n",
       " {'val_mse': 0.4359603635966778, 'val_r2': 0.8778828680515289},\n",
       " {'val_mse': 0.4039783366024494, 'val_r2': 0.8745994493365288},\n",
       " {'val_mse': 0.39464476332068443, 'val_r2': 0.8893588408827782},\n",
       " {'val_mse': 0.37684527039527893, 'val_r2': 0.8828586935997009},\n",
       " {'val_mse': 0.36923573911190033, 'val_r2': 0.8851298615336418},\n",
       " {'val_mse': 0.35431675612926483, 'val_r2': 0.8891203999519348}]"
      ]
     },
     "execution_count": 13,
     "metadata": {},
     "output_type": "execute_result"
    }
   ],
   "source": [
    "logs"
   ]
  },
  {
   "cell_type": "code",
   "execution_count": 22,
   "metadata": {},
   "outputs": [
    {
     "name": "stdout",
     "output_type": "stream",
     "text": [
      "Logs saved to logs/sae-tiny-stories-model-kurtosis-regularize-0.44-loss.pt.log\n"
     ]
    }
   ],
   "source": [
    "import os\n",
    "import json\n",
    "\n",
    "# Create the logs directory if it doesn't exist\n",
    "os.makedirs('logs', exist_ok=True)\n",
    "\n",
    "# Save logs to the specified file\n",
    "log_file_path = f'logs/sae-{model_name}.log'\n",
    "with open(log_file_path, 'w') as f:\n",
    "    json.dump(logs, f, indent=2)\n",
    "\n",
    "print(f\"Logs saved to {log_file_path}\")"
   ]
  },
  {
   "cell_type": "code",
   "execution_count": 23,
   "metadata": {},
   "outputs": [
    {
     "name": "stdout",
     "output_type": "stream",
     "text": [
      "Successfully loaded: sae-tiny-stories-model-kurtosis-regularize-0.44-loss.pt.log\n",
      "Successfully loaded: sae-tiny-stories-model-normal-0.44-loss.pt.log\n",
      "Total log files loaded: 2\n"
     ]
    }
   ],
   "source": [
    "import os\n",
    "import json\n",
    "\n",
    "logs_dir = 'logs'\n",
    "loaded_logs = {}\n",
    "\n",
    "# Iterate through all files in the logs directory\n",
    "for filename in os.listdir(logs_dir):\n",
    "    if filename.endswith('.log'):\n",
    "        file_path = os.path.join(logs_dir, filename)\n",
    "        with open(file_path, 'r') as f:\n",
    "            try:\n",
    "                # Load the JSON data from the file\n",
    "                log_data = json.load(f)\n",
    "                # Store the loaded data using the filename as the key\n",
    "                loaded_logs[filename] = log_data\n",
    "                print(f\"Successfully loaded: {filename}\")\n",
    "            except json.JSONDecodeError:\n",
    "                print(f\"Error decoding JSON from file: {filename}\")\n",
    "\n",
    "print(f\"Total log files loaded: {len(loaded_logs)}\")\n",
    "\n"
   ]
  },
  {
   "cell_type": "code",
   "execution_count": 44,
   "metadata": {},
   "outputs": [
    {
     "data": {
      "image/png": "[encoded data removed]",
      "text/plain": [
       "<Figure size 864x432 with 1 Axes>"
      ]
     },
     "metadata": {
      "needs_background": "light"
     },
     "output_type": "display_data"
    }
   ],
   "source": [
    "import matplotlib.pyplot as plt\n",
    "\n",
    "plt.figure(figsize=(12, 6))\n",
    "\n",
    "for key in loaded_logs.keys():\n",
    "    log_data = loaded_logs[key]\n",
    "    val_r2 = [entry['val_r2'] for entry in log_data]\n",
    "    epochs = range(len(val_r2))\n",
    "    \n",
    "    plt.plot(epochs, val_r2, label=key)\n",
    "\n",
    "plt.xlabel('# of 3GB chunks of residuals trained on')\n",
    "plt.ylabel('Validation R2 Score')\n",
    "plt.title('Validation R2 Score for Different Models')\n",
    "plt.legend()\n",
    "plt.grid(True)\n",
    "plt.ylim(0, 1)  # Set y-axis range from 0 to 1\n",
    "plt.show()"
   ]
  }
 ],
 "metadata": {
  "kernelspec": {
   "display_name": "ai",
   "language": "python",
   "name": "python3"
  },
  "language_info": {
   "codemirror_mode": {
    "name": "ipython",
    "version": 3
   },
   "file_extension": ".py",
   "mimetype": "text/x-python",
   "name": "python",
   "nbconvert_exporter": "python",
   "pygments_lexer": "ipython3",
   "version": "3.10.12"
  }
 },
 "nbformat": 4,
 "nbformat_minor": 2
}
