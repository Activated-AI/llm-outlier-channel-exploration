{
 "cells": [
  {
   "cell_type": "code",
   "execution_count": null,
   "metadata": {},
   "outputs": [],
   "source": [
    "config = {\n",
    "    \"seed\": 42,\n",
    "    \"n_epochs\": 10,\n",
    "    \"batch_size\": 32,\n",
    "    \"lr\": 0.01,\n",
    "}\n",
    "\n",
    "model = {\"name\": \"sae\", \"config\": config}\n",
    "\n",
    "def test_train_loop():\n",
    "    return model.config[\"n_epochs\"]\n",
    "\n",
    "print(\"imported testnotebook\")"
   ]
  }
 ],
 "metadata": {
  "language_info": {
   "name": "python"
  }
 },
 "nbformat": 4,
 "nbformat_minor": 2
}
